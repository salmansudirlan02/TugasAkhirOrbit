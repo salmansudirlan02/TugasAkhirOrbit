{
 "cells": [
  {
   "cell_type": "code",
   "execution_count": 1,
   "metadata": {
    "id": "hX4goRmpWWwH"
   },
   "outputs": [],
   "source": [
    "import pandas as pd\n",
    "import numpy as np\n",
    "import matplotlib.pyplot as plt"
   ]
  },
  {
   "cell_type": "code",
   "execution_count": 2,
   "metadata": {
    "colab": {
     "base_uri": "https://localhost:8080/",
     "height": 424
    },
    "id": "pMudIHObWjWK",
    "outputId": "59221ece-8aaa-4b5e-f37c-eb60b1f0af75"
   },
   "outputs": [
    {
     "data": {
      "text/html": [
       "<div>\n",
       "<style scoped>\n",
       "    .dataframe tbody tr th:only-of-type {\n",
       "        vertical-align: middle;\n",
       "    }\n",
       "\n",
       "    .dataframe tbody tr th {\n",
       "        vertical-align: top;\n",
       "    }\n",
       "\n",
       "    .dataframe thead th {\n",
       "        text-align: right;\n",
       "    }\n",
       "</style>\n",
       "<table border=\"1\" class=\"dataframe\">\n",
       "  <thead>\n",
       "    <tr style=\"text-align: right;\">\n",
       "      <th></th>\n",
       "      <th>Unnamed: 0</th>\n",
       "      <th>month</th>\n",
       "      <th>ffmc</th>\n",
       "      <th>dmc</th>\n",
       "      <th>temp</th>\n",
       "      <th>rh</th>\n",
       "      <th>dc</th>\n",
       "      <th>area</th>\n",
       "    </tr>\n",
       "  </thead>\n",
       "  <tbody>\n",
       "    <tr>\n",
       "      <th>0</th>\n",
       "      <td>138</td>\n",
       "      <td>7</td>\n",
       "      <td>85.8</td>\n",
       "      <td>48.3</td>\n",
       "      <td>18.0</td>\n",
       "      <td>42</td>\n",
       "      <td>313.4</td>\n",
       "      <td>0.36</td>\n",
       "    </tr>\n",
       "    <tr>\n",
       "      <th>1</th>\n",
       "      <td>139</td>\n",
       "      <td>9</td>\n",
       "      <td>91.0</td>\n",
       "      <td>129.5</td>\n",
       "      <td>21.7</td>\n",
       "      <td>38</td>\n",
       "      <td>692.6</td>\n",
       "      <td>0.43</td>\n",
       "    </tr>\n",
       "    <tr>\n",
       "      <th>2</th>\n",
       "      <td>140</td>\n",
       "      <td>9</td>\n",
       "      <td>90.9</td>\n",
       "      <td>126.5</td>\n",
       "      <td>21.9</td>\n",
       "      <td>39</td>\n",
       "      <td>686.5</td>\n",
       "      <td>0.47</td>\n",
       "    </tr>\n",
       "    <tr>\n",
       "      <th>3</th>\n",
       "      <td>141</td>\n",
       "      <td>8</td>\n",
       "      <td>95.5</td>\n",
       "      <td>99.9</td>\n",
       "      <td>23.3</td>\n",
       "      <td>31</td>\n",
       "      <td>513.3</td>\n",
       "      <td>0.55</td>\n",
       "    </tr>\n",
       "    <tr>\n",
       "      <th>4</th>\n",
       "      <td>142</td>\n",
       "      <td>8</td>\n",
       "      <td>90.1</td>\n",
       "      <td>108.0</td>\n",
       "      <td>21.2</td>\n",
       "      <td>51</td>\n",
       "      <td>529.8</td>\n",
       "      <td>0.61</td>\n",
       "    </tr>\n",
       "    <tr>\n",
       "      <th>...</th>\n",
       "      <td>...</td>\n",
       "      <td>...</td>\n",
       "      <td>...</td>\n",
       "      <td>...</td>\n",
       "      <td>...</td>\n",
       "      <td>...</td>\n",
       "      <td>...</td>\n",
       "      <td>...</td>\n",
       "    </tr>\n",
       "    <tr>\n",
       "      <th>265</th>\n",
       "      <td>509</td>\n",
       "      <td>8</td>\n",
       "      <td>91.0</td>\n",
       "      <td>166.9</td>\n",
       "      <td>21.1</td>\n",
       "      <td>71</td>\n",
       "      <td>752.6</td>\n",
       "      <td>2.17</td>\n",
       "    </tr>\n",
       "    <tr>\n",
       "      <th>266</th>\n",
       "      <td>510</td>\n",
       "      <td>8</td>\n",
       "      <td>91.0</td>\n",
       "      <td>166.9</td>\n",
       "      <td>18.2</td>\n",
       "      <td>62</td>\n",
       "      <td>752.6</td>\n",
       "      <td>0.43</td>\n",
       "    </tr>\n",
       "    <tr>\n",
       "      <th>267</th>\n",
       "      <td>512</td>\n",
       "      <td>8</td>\n",
       "      <td>81.6</td>\n",
       "      <td>56.7</td>\n",
       "      <td>27.8</td>\n",
       "      <td>32</td>\n",
       "      <td>665.6</td>\n",
       "      <td>6.44</td>\n",
       "    </tr>\n",
       "    <tr>\n",
       "      <th>268</th>\n",
       "      <td>513</td>\n",
       "      <td>8</td>\n",
       "      <td>81.6</td>\n",
       "      <td>56.7</td>\n",
       "      <td>21.9</td>\n",
       "      <td>71</td>\n",
       "      <td>665.6</td>\n",
       "      <td>54.29</td>\n",
       "    </tr>\n",
       "    <tr>\n",
       "      <th>269</th>\n",
       "      <td>514</td>\n",
       "      <td>8</td>\n",
       "      <td>81.6</td>\n",
       "      <td>56.7</td>\n",
       "      <td>21.2</td>\n",
       "      <td>70</td>\n",
       "      <td>665.6</td>\n",
       "      <td>11.16</td>\n",
       "    </tr>\n",
       "  </tbody>\n",
       "</table>\n",
       "<p>270 rows × 8 columns</p>\n",
       "</div>"
      ],
      "text/plain": [
       "     Unnamed: 0  month  ffmc    dmc  temp  rh     dc   area\n",
       "0           138      7  85.8   48.3  18.0  42  313.4   0.36\n",
       "1           139      9  91.0  129.5  21.7  38  692.6   0.43\n",
       "2           140      9  90.9  126.5  21.9  39  686.5   0.47\n",
       "3           141      8  95.5   99.9  23.3  31  513.3   0.55\n",
       "4           142      8  90.1  108.0  21.2  51  529.8   0.61\n",
       "..          ...    ...   ...    ...   ...  ..    ...    ...\n",
       "265         509      8  91.0  166.9  21.1  71  752.6   2.17\n",
       "266         510      8  91.0  166.9  18.2  62  752.6   0.43\n",
       "267         512      8  81.6   56.7  27.8  32  665.6   6.44\n",
       "268         513      8  81.6   56.7  21.9  71  665.6  54.29\n",
       "269         514      8  81.6   56.7  21.2  70  665.6  11.16\n",
       "\n",
       "[270 rows x 8 columns]"
      ]
     },
     "execution_count": 2,
     "metadata": {},
     "output_type": "execute_result"
    }
   ],
   "source": [
    "df = pd.read_csv(\"cleaned_forestfires.csv\")\n",
    "df"
   ]
  },
  {
   "cell_type": "code",
   "execution_count": 3,
   "metadata": {
    "id": "lsZZtJxqWkA7"
   },
   "outputs": [],
   "source": [
    "df.drop('Unnamed: 0', axis=1, inplace=True)"
   ]
  },
  {
   "cell_type": "code",
   "execution_count": 4,
   "metadata": {
    "colab": {
     "base_uri": "https://localhost:8080/"
    },
    "id": "VwdO3I4KWkMO",
    "outputId": "63cfc54d-7737-4627-ea3b-6f9d6b1b814a"
   },
   "outputs": [
    {
     "name": "stdout",
     "output_type": "stream",
     "text": [
      "<class 'pandas.core.frame.DataFrame'>\n",
      "RangeIndex: 270 entries, 0 to 269\n",
      "Data columns (total 7 columns):\n",
      " #   Column  Non-Null Count  Dtype  \n",
      "---  ------  --------------  -----  \n",
      " 0   month   270 non-null    int64  \n",
      " 1   ffmc    270 non-null    float64\n",
      " 2   dmc     270 non-null    float64\n",
      " 3   temp    270 non-null    float64\n",
      " 4   rh      270 non-null    int64  \n",
      " 5   dc      270 non-null    float64\n",
      " 6   area    270 non-null    float64\n",
      "dtypes: float64(5), int64(2)\n",
      "memory usage: 14.9 KB\n"
     ]
    }
   ],
   "source": [
    "df.info()"
   ]
  },
  {
   "cell_type": "code",
   "execution_count": 5,
   "metadata": {
    "colab": {
     "base_uri": "https://localhost:8080/"
    },
    "id": "Zg0lvMXgWkSx",
    "outputId": "03db8899-fe96-4b8d-fa6b-fa46dcf3de84"
   },
   "outputs": [
    {
     "data": {
      "text/plain": [
       "1.94      3\n",
       "1.75      2\n",
       "6.43      2\n",
       "2.14      2\n",
       "11.06     2\n",
       "         ..\n",
       "105.66    1\n",
       "154.88    1\n",
       "196.48    1\n",
       "200.94    1\n",
       "11.16     1\n",
       "Name: area, Length: 250, dtype: int64"
      ]
     },
     "execution_count": 5,
     "metadata": {},
     "output_type": "execute_result"
    }
   ],
   "source": [
    "df['area'].value_counts()"
   ]
  },
  {
   "cell_type": "code",
   "execution_count": 6,
   "metadata": {
    "id": "AArYWj8GWkWU"
   },
   "outputs": [],
   "source": [
    "from sklearn.model_selection import train_test_split\n",
    "\n",
    "from sklearn.ensemble import ExtraTreesRegressor\n",
    "from sklearn.tree import DecisionTreeRegressor"
   ]
  },
  {
   "cell_type": "code",
   "execution_count": 7,
   "metadata": {
    "id": "hhT-Irk7Wker"
   },
   "outputs": [],
   "source": [
    "X = df.iloc[:, :-1]\n",
    "y = df.iloc[:, -1]"
   ]
  },
  {
   "cell_type": "code",
   "execution_count": 8,
   "metadata": {
    "colab": {
     "base_uri": "https://localhost:8080/"
    },
    "id": "PAAQHNjpWkia",
    "outputId": "3c40b3c5-5ce9-4eeb-e919-220344a8d152"
   },
   "outputs": [
    {
     "data": {
      "text/plain": [
       "((189, 6), (81, 6))"
      ]
     },
     "execution_count": 8,
     "metadata": {},
     "output_type": "execute_result"
    }
   ],
   "source": [
    "X_train, X_test, y_train, y_test = train_test_split(X, y, test_size=0.30)\n",
    "X_train.shape, X_test.shape"
   ]
  },
  {
   "cell_type": "code",
   "execution_count": 9,
   "metadata": {
    "colab": {
     "base_uri": "https://localhost:8080/"
    },
    "id": "hBiUZQHLWkmA",
    "outputId": "dc5af138-a3d5-4c2e-bfa4-1c02ed894911"
   },
   "outputs": [],
   "source": [
    "model = ExtraTreesRegressor()\n",
    "model.fit(X, y)\n",
    "y_pred = model.predict(X_test)"
   ]
  },
  {
   "cell_type": "code",
   "execution_count": 10,
   "metadata": {
    "id": "PPho8L3YWkoL"
   },
   "outputs": [],
   "source": [
    "accuracy_train = model.score(X_train, y_train)\n",
    "accuracy_test  = model.score(X_test, y_test)"
   ]
  },
  {
   "cell_type": "code",
   "execution_count": 11,
   "metadata": {
    "colab": {
     "base_uri": "https://localhost:8080/"
    },
    "id": "WbEenbRTWkrB",
    "outputId": "b9771f40-b4e7-4cb2-e3bf-ddb9da5554be"
   },
   "outputs": [
    {
     "name": "stdout",
     "output_type": "stream",
     "text": [
      "Akurasi Model (Train) : 99.98 %\n",
      "Akurasi Model (Test)  : 99.92 %\n"
     ]
    }
   ],
   "source": [
    "print(f\"Akurasi Model (Train) : {np.round(accuracy_train * 100,2)} %\")\n",
    "print(f\"Akurasi Model (Test)  : {np.round(accuracy_test * 100,2)} %\")"
   ]
  },
  {
   "cell_type": "code",
   "execution_count": 12,
   "metadata": {
    "colab": {
     "base_uri": "https://localhost:8080/"
    },
    "id": "3OANcu6cOVj7",
    "outputId": "62c11d9a-e599-4420-c7c5-87045b99e4d4"
   },
   "outputs": [
    {
     "data": {
      "text/plain": [
       "['extra_tree.model']"
      ]
     },
     "execution_count": 12,
     "metadata": {},
     "output_type": "execute_result"
    }
   ],
   "source": [
    "import joblib\n",
    "joblib.dump((model), \"extra_tree.model\")"
   ]
  },
  {
   "cell_type": "code",
   "execution_count": 13,
   "metadata": {
    "colab": {
     "base_uri": "https://localhost:8080/",
     "height": 81
    },
    "id": "zcblgf0bcfni",
    "outputId": "c85ac45f-41f8-432f-a6b7-d5560d72260b"
   },
   "outputs": [
    {
     "data": {
      "text/html": [
       "<div>\n",
       "<style scoped>\n",
       "    .dataframe tbody tr th:only-of-type {\n",
       "        vertical-align: middle;\n",
       "    }\n",
       "\n",
       "    .dataframe tbody tr th {\n",
       "        vertical-align: top;\n",
       "    }\n",
       "\n",
       "    .dataframe thead th {\n",
       "        text-align: right;\n",
       "    }\n",
       "</style>\n",
       "<table border=\"1\" class=\"dataframe\">\n",
       "  <thead>\n",
       "    <tr style=\"text-align: right;\">\n",
       "      <th></th>\n",
       "      <th>month</th>\n",
       "      <th>ffmc</th>\n",
       "      <th>dmc</th>\n",
       "      <th>temp</th>\n",
       "      <th>rh</th>\n",
       "      <th>dc</th>\n",
       "    </tr>\n",
       "  </thead>\n",
       "  <tbody>\n",
       "    <tr>\n",
       "      <th>0</th>\n",
       "      <td>3</td>\n",
       "      <td>86.2</td>\n",
       "      <td>26.2</td>\n",
       "      <td>8.2</td>\n",
       "      <td>51</td>\n",
       "      <td>94.3</td>\n",
       "    </tr>\n",
       "  </tbody>\n",
       "</table>\n",
       "</div>"
      ],
      "text/plain": [
       "   month  ffmc   dmc  temp  rh    dc\n",
       "0      3  86.2  26.2   8.2  51  94.3"
      ]
     },
     "execution_count": 13,
     "metadata": {},
     "output_type": "execute_result"
    }
   ],
   "source": [
    "df_test = pd.DataFrame(data={\n",
    "    \"month\" : [3],\n",
    "    \"ffmc\"  : [86.2],\n",
    "    \"dmc\" : [26.2],\n",
    "    \"temp\"  : [8.2],\n",
    "    \"rh\"  : [51],\n",
    "    \"dc\"  : [94.3]\n",
    "})\n",
    "\n",
    "df_test[0:1]"
   ]
  },
  {
   "cell_type": "code",
   "execution_count": 14,
   "metadata": {
    "colab": {
     "base_uri": "https://localhost:8080/"
    },
    "id": "LhAJhIZ5hfQy",
    "outputId": "b3fe3b1e-72b7-4369-fceb-c06c36c3b536"
   },
   "outputs": [
    {
     "name": "stdout",
     "output_type": "stream",
     "text": [
      "14.2\n"
     ]
    }
   ],
   "source": [
    "pred_test = model.predict(df_test[0:1])\n",
    "print(np.round(pred_test[0],2))"
   ]
  },
  {
   "cell_type": "code",
   "execution_count": 15,
   "metadata": {},
   "outputs": [],
   "source": [
    "# from sklearn.linear_model import LogisticRegression\n",
    "\n",
    "# logmodel = LogisticRegression()\n",
    "# print(logmodel.fit(X_train,y_train))"
   ]
  },
  {
   "cell_type": "code",
   "execution_count": 16,
   "metadata": {},
   "outputs": [],
   "source": [
    "from sklearn.metrics import confusion_matrix"
   ]
  },
  {
   "cell_type": "code",
   "execution_count": 17,
   "metadata": {},
   "outputs": [
    {
     "data": {
      "text/plain": [
       "153     4.42\n",
       "115     8.85\n",
       "81     31.86\n",
       "165     5.83\n",
       "5       0.71\n",
       "       ...  \n",
       "88     49.37\n",
       "122     4.40\n",
       "231     1.94\n",
       "78     29.48\n",
       "235     6.84\n",
       "Name: area, Length: 81, dtype: float64"
      ]
     },
     "execution_count": 17,
     "metadata": {},
     "output_type": "execute_result"
    }
   ],
   "source": [
    "y_test"
   ]
  },
  {
   "cell_type": "code",
   "execution_count": 18,
   "metadata": {
    "scrolled": false
   },
   "outputs": [
    {
     "data": {
      "text/plain": [
       "array([  4.42 ,   8.85 ,  31.86 ,   5.83 ,   0.71 ,  15.095,   4.25 ,\n",
       "        13.99 ,   8.98 ,   1.95 ,   7.73 ,   3.5  ,  20.03 ,   1.07 ,\n",
       "         5.65 ,   7.8  ,   4.41 , 185.76 ,   3.93 ,  48.55 ,   6.3  ,\n",
       "       174.63 , 200.94 ,  56.04 ,  15.34 ,   1.19 ,  13.7  ,  54.29 ,\n",
       "         0.9  ,   7.4  ,   2.03 ,  30.32 ,   9.96 ,   8.31 ,  12.1  ,\n",
       "         1.75 ,   7.36 ,  95.18 ,   2.74 ,   6.83 ,  16.4  ,   0.52 ,\n",
       "         2.01 ,   5.86 ,   6.43 ,   4.88 ,   1.63 ,   1.38 ,  16.33 ,\n",
       "         1.76 ,  35.88 ,  10.08 ,   2.44 ,  10.13 ,   2.17 ,   2.77 ,\n",
       "        32.1  ,   3.52 ,   9.36 ,   7.77 ,  19.23 ,  12.18 ,   4.53 ,\n",
       "        17.2  ,   2.35 ,   2.87 ,   5.8  ,   7.77 ,   3.63 ,  37.02 ,\n",
       "         6.61 ,   6.96 ,   3.64 ,  24.23 , 103.39 ,  24.59 ,  49.37 ,\n",
       "         4.4  ,   1.94 ,  29.48 ,   6.84 ])"
      ]
     },
     "execution_count": 18,
     "metadata": {},
     "output_type": "execute_result"
    }
   ],
   "source": [
    "y_pred"
   ]
  },
  {
   "cell_type": "code",
   "execution_count": 24,
   "metadata": {},
   "outputs": [
    {
     "data": {
      "text/plain": [
       "1.1240793209876572"
      ]
     },
     "execution_count": 24,
     "metadata": {},
     "output_type": "execute_result"
    }
   ],
   "source": [
    "# mean squared error\n",
    "from sklearn.metrics import mean_squared_error\n",
    "mean_squared_error(y_test, y_pred)"
   ]
  },
  {
   "cell_type": "code",
   "execution_count": 25,
   "metadata": {},
   "outputs": [
    {
     "data": {
      "text/plain": [
       "1.06022607069797"
      ]
     },
     "execution_count": 25,
     "metadata": {},
     "output_type": "execute_result"
    }
   ],
   "source": [
    "# root mean squared error\n",
    "mean_squared_error(y_test, y_pred, squared = False)"
   ]
  },
  {
   "cell_type": "code",
   "execution_count": 26,
   "metadata": {},
   "outputs": [
    {
     "data": {
      "text/plain": [
       "0.9992083388133971"
      ]
     },
     "execution_count": 26,
     "metadata": {},
     "output_type": "execute_result"
    }
   ],
   "source": [
    "from sklearn.metrics import r2_score\n",
    "r2_score(y_test, y_pred)"
   ]
  },
  {
   "cell_type": "code",
   "execution_count": 27,
   "metadata": {},
   "outputs": [
    {
     "data": {
      "text/plain": [
       "0.9991441500685374"
      ]
     },
     "execution_count": 27,
     "metadata": {},
     "output_type": "execute_result"
    }
   ],
   "source": [
    "# define variables for adjusted r2 score\n",
    "r2 = r2_score(y_test, y_pred)\n",
    "n = len(y_test)\n",
    "k = len(X_test.columns)\n",
    "\n",
    "# calculate adjusted r2 score\n",
    "adj_r2_score = 1-(((1-r2)*(n-1))/(n-k-1))\n",
    "\n",
    "adj_r2_score"
   ]
  },
  {
   "cell_type": "code",
   "execution_count": null,
   "metadata": {},
   "outputs": [],
   "source": []
  }
 ],
 "metadata": {
  "colab": {
   "provenance": []
  },
  "kernelspec": {
   "display_name": "Python 3 (ipykernel)",
   "language": "python",
   "name": "python3"
  },
  "language_info": {
   "codemirror_mode": {
    "name": "ipython",
    "version": 3
   },
   "file_extension": ".py",
   "mimetype": "text/x-python",
   "name": "python",
   "nbconvert_exporter": "python",
   "pygments_lexer": "ipython3",
   "version": "3.9.12"
  }
 },
 "nbformat": 4,
 "nbformat_minor": 1
}
